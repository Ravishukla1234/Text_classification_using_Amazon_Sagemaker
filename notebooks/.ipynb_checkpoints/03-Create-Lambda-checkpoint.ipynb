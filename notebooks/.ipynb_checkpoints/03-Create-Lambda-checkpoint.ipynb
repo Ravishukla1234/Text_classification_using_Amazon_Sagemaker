{
 "cells": [
  {
   "cell_type": "markdown",
   "id": "90cb3a34",
   "metadata": {},
   "source": [
    "# Creating Lamda Function\n",
    "\n",
    "In this notebook, we are going to create a Lamda Function to invoke the endpoint created in the notebook `02-DataPrep-and-training.ipynb`\n",
    "\n",
    "## The Steps Involved in this process are :-\n",
    "\n",
    "\n",
    ">- Step 1 : Create an iam role for Lambda and attach necessary policies to it\n",
    ">- Step 2 : Deploy - Lambda function\n"
   ]
  },
  {
   "cell_type": "markdown",
   "id": "cd2cb27d",
   "metadata": {},
   "source": [
    "---\n",
    "\n",
    "## Step 1: Create an iam role for Lambda and attach necessary policies to it"
   ]
  },
  {
   "cell_type": "code",
   "execution_count": 1,
   "id": "da915b2b",
   "metadata": {},
   "outputs": [
    {
     "name": "stderr",
     "output_type": "stream",
     "text": [
      "/home/ec2-user/anaconda3/envs/python3/lib/python3.6/site-packages/boto3/compat.py:88: PythonDeprecationWarning: Boto3 will no longer support Python 3.6 starting May 30, 2022. To continue receiving service updates, bug fixes, and security updates please upgrade to Python 3.7 or later. More information can be found here: https://aws.amazon.com/blogs/developer/python-support-policy-updates-for-aws-sdks-and-tools/\n",
      "  warnings.warn(warning, PythonDeprecationWarning)\n"
     ]
    },
    {
     "name": "stdout",
     "output_type": "stream",
     "text": [
      "Role already exists... hence exiting from here\n"
     ]
    }
   ],
   "source": [
    "import json\n",
    "import os\n",
    "import boto3\n",
    "from botocore.exceptions import ClientError\n",
    "\n",
    "\n",
    "# Create IAM client\n",
    "iam_client = boto3.client('iam')\n",
    "\n",
    "# Create a policy\n",
    "trust_relationship_policy_another_iam_user = {\"Version\":\"2012-10-17\",\n",
    "                     \"Statement\":{\n",
    "                         \"Effect\":\"Allow\",\n",
    "                          \"Principal\":{\n",
    "                              \"Service\":\n",
    "                               \"lambda.amazonaws.com\"\n",
    "                              },\n",
    "                          \"Action\":\"sts:AssumeRole\"\n",
    "                         }\n",
    "                    }\n",
    "\n",
    "role_name = \"stumbleUpon\"\n",
    "try:\n",
    "    create_role_response = iam_client.create_role(\n",
    "        RoleName=role_name,\n",
    "        AssumeRolePolicyDocument=json.dumps(trust_relationship_policy_another_iam_user),\n",
    "        Description='This is a role with S3 and Lambda exec access',\n",
    "    )\n",
    "except ClientError as error:\n",
    "    if error.response['Error']['Code'] == 'EntityAlreadyExists':\n",
    "        print('Role already exists... hence exiting from here')\n",
    "    else:\n",
    "        print('Unexpected error occurred... Role could not be created', error)"
   ]
  },
  {
   "cell_type": "markdown",
   "id": "560fc154",
   "metadata": {},
   "source": [
    "---\n",
    "\n",
    "Attach AmazonS3FullAccess,AWSLambdaBasicExecutionRole and AmazonSageMakerFullAccess policies to the lambda"
   ]
  },
  {
   "cell_type": "code",
   "execution_count": 2,
   "id": "74903515",
   "metadata": {},
   "outputs": [],
   "source": [
    "policy_json = {\n",
    "    \"Version\": \"2012-10-17\",\n",
    "    \"Statement\": [{\n",
    "        \"Effect\": \"Allow\",\n",
    "        \"Action\": [\n",
    "            \"ec2:*\"\n",
    "        ],\n",
    "        \"Resource\": \"*\"\n",
    "    }]\n",
    "}\n",
    "\n",
    "policy_name = role_name + '_policy'\n",
    "policy_arns = ['arn:aws:iam::aws:policy/AmazonS3FullAccess','arn:aws:iam::aws:policy/service-role/AWSLambdaBasicExecutionRole',\n",
    "              'arn:aws:iam::aws:policy/AmazonSageMakerFullAccess']\n",
    "\n",
    "for policy_arn in policy_arns:\n",
    "    try:\n",
    "        policy_attach_res = iam_client.attach_role_policy(\n",
    "            RoleName=role_name,\n",
    "            PolicyArn=policy_arn\n",
    "        )\n",
    "    except ClientError as error:\n",
    "        print('Unexpected error occurred... hence cleaning up')\n",
    "        iam_client.delete_role(\n",
    "            RoleName= role_name\n",
    "        )\n",
    "        print('Role could not be created...', error)"
   ]
  },
  {
   "cell_type": "markdown",
   "id": "b3606d0b",
   "metadata": {},
   "source": [
    "---\n",
    "\n",
    "## Step 2: Deploy  - Lambda function"
   ]
  },
  {
   "cell_type": "markdown",
   "id": "a7eb9863",
   "metadata": {},
   "source": [
    "### 1. Edit the Lambda function code according to your requirement"
   ]
  },
  {
   "cell_type": "code",
   "execution_count": 3,
   "id": "b999ff8e",
   "metadata": {},
   "outputs": [
    {
     "name": "stdout",
     "output_type": "stream",
     "text": [
      "Writing app.py\n"
     ]
    }
   ],
   "source": [
    "%%writefile app.py\n",
    "\n",
    "import json\n",
    "import os\n",
    "import boto3\n",
    "\n",
    "def lambda_handler(event, context):\n",
    "    \n",
    "    ENDPOINT_NAME = os.environ[\"ENDPOINT_NAME\"]\n",
    "\n",
    "    request_args = {}\n",
    "    \n",
    "    text = json.loads(json.dumps(event))\n",
    "\n",
    "    request = {\"inputs\" : text[\"inputs\"],\"parameters\": {\"truncation\": True}}\n",
    "    request_args['Body'] = json.dumps(request)\n",
    "    request_args['EndpointName'] = ENDPOINT_NAME\n",
    "    request_args['ContentType'] = 'application/json'\n",
    "    request_args['Accept'] = 'application/json'\n",
    "    \n",
    "    # # works successfully\n",
    "    runtime= boto3.client('runtime.sagemaker')\n",
    "    \n",
    "    response = runtime.invoke_endpoint(**request_args)\n",
    "    \n",
    "    response_body = response['Body']\n",
    "    \n",
    "    output = json.loads(response_body.read().decode(\"UTF-8\"))[0]\n",
    "    print(output)\n",
    "        # TODO implement\n",
    "    return {\n",
    "        'statusCode': 200,\n",
    "        'body': json.dumps(output)\n",
    "    }\n"
   ]
  },
  {
   "cell_type": "markdown",
   "id": "c299a403",
   "metadata": {},
   "source": [
    "### 2. Create and Deploy the Lambda function:"
   ]
  },
  {
   "cell_type": "code",
   "execution_count": 4,
   "id": "272a7c41",
   "metadata": {},
   "outputs": [
    {
     "name": "stdout",
     "output_type": "stream",
     "text": [
      "  adding: app.py (deflated 51%)\r\n"
     ]
    }
   ],
   "source": [
    "!zip app.zip app.py"
   ]
  },
  {
   "cell_type": "code",
   "execution_count": 5,
   "id": "07156a06",
   "metadata": {},
   "outputs": [],
   "source": [
    "import sagemaker\n",
    "sagemaker_session = sagemaker.Session()\n",
    "bucket = sagemaker_session.default_bucket()\n",
    "\n",
    "BUCKET_NAME = bucket\n"
   ]
  },
  {
   "cell_type": "code",
   "execution_count": 6,
   "id": "f9899568",
   "metadata": {},
   "outputs": [
    {
     "name": "stderr",
     "output_type": "stream",
     "text": [
      "/home/ec2-user/anaconda3/envs/python3/lib/python3.6/site-packages/boto3/compat.py:88: PythonDeprecationWarning: Boto3 will no longer support Python 3.6 starting May 30, 2022. To continue receiving service updates, bug fixes, and security updates please upgrade to Python 3.7 or later. More information can be found here: https://aws.amazon.com/blogs/developer/python-support-policy-updates-for-aws-sdks-and-tools/\n",
      "  warnings.warn(warning, PythonDeprecationWarning)\n"
     ]
    },
    {
     "name": "stdout",
     "output_type": "stream",
     "text": [
      "Completed 575 Bytes/575 Bytes (10.2 KiB/s) with 1 file(s) remaining\r",
      "upload: ./app.zip to s3://sagemaker-ap-south-1-296512243111/app.zip\r\n"
     ]
    }
   ],
   "source": [
    "FUNCTION_NAME=\"StumbleUpon\"\n",
    "ACCOUNT_ID= boto3.client(\"sts\").get_caller_identity()[\"Account\"]\n",
    "!aws s3 cp app.zip s3://$BUCKET_NAME"
   ]
  },
  {
   "cell_type": "markdown",
   "id": "8af3207e",
   "metadata": {},
   "source": [
    "---\n",
    "\n",
    "Loading the endpoint-name"
   ]
  },
  {
   "cell_type": "code",
   "execution_count": 7,
   "id": "53a77e2c",
   "metadata": {},
   "outputs": [],
   "source": [
    "endpoint_name = \"<<Sagemaker Endpoint Name>>\" # Visit AWS management console →Amazon Sagemaker →Inference →Endpoints to get the endpoin_name"
   ]
  },
  {
   "cell_type": "code",
   "execution_count": 8,
   "id": "08044b15",
   "metadata": {},
   "outputs": [],
   "source": [
    "lambda_client = boto3.client('lambda')\n",
    "response = lambda_client.create_function(\n",
    "    FunctionName=FUNCTION_NAME,\n",
    "    Runtime='python3.7',\n",
    "    Role=f\"arn:aws:iam::{ACCOUNT_ID}:role/{role_name}\",\n",
    "    Handler='app.lambda_handler',\n",
    "    Code={\n",
    "        'S3Bucket': BUCKET_NAME,\n",
    "        'S3Key': 'app.zip',\n",
    "    },\n",
    "    Timeout=600,\n",
    "    MemorySize = 10240,\n",
    "    PackageType='Zip',\n",
    "    Environment={\n",
    "        'Variables': {\n",
    "            'ENDPOINT_NAME': endpoint_name\n",
    "        }\n",
    "    },\n",
    ")"
   ]
  },
  {
   "cell_type": "markdown",
   "id": "558c2907",
   "metadata": {},
   "source": [
    "---\n",
    "\n",
    "# Now you can deploy the enpoint via API Gateway\n",
    "\n",
    ">- Follow this detailed [AWS tutorial](\"https://aws.amazon.com/blogs/machine-learning/call-an-amazon-sagemaker-model-endpoint-using-amazon-api-gateway-and-aws-lambda/\") to invoke lambda function via Amazon API gateway \n",
    "\n",
    "\n"
   ]
  }
 ],
 "metadata": {
  "kernelspec": {
   "display_name": "conda_python3",
   "language": "python",
   "name": "conda_python3"
  },
  "language_info": {
   "codemirror_mode": {
    "name": "ipython",
    "version": 3
   },
   "file_extension": ".py",
   "mimetype": "text/x-python",
   "name": "python",
   "nbconvert_exporter": "python",
   "pygments_lexer": "ipython3",
   "version": "3.6.13"
  }
 },
 "nbformat": 4,
 "nbformat_minor": 5
}
